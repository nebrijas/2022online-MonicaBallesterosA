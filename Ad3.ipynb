{
 "cells": [
  {
   "cell_type": "markdown",
   "id": "97394586",
   "metadata": {},
   "source": [
    "# AD3_Ballesteros_Mónica"
   ]
  },
  {
   "cell_type": "markdown",
   "id": "49c31c28",
   "metadata": {},
   "source": [
    "En esta celda empezaría la explicación del código scraping. Primero, importamos las librerías y ponemos el código fuente. "
   ]
  },
  {
   "cell_type": "markdown",
   "id": "c73712f5",
   "metadata": {},
   "source": [
    "## Código Fuente"
   ]
  },
  {
   "cell_type": "code",
   "execution_count": null,
   "id": "401c6cc9",
   "metadata": {},
   "outputs": [],
   "source": [
    "import requests\n",
    "import time\n",
    "import csv\n",
    "import re\n",
    "from bs4 import BeautifulSoup\n",
    "import os\n",
    "import pandas as pd\n",
    "from termcolor import colored\n",
    "\n",
    "resultados = []\n",
    "\n",
    "req = requests.get(\"https://resultados.elpais.com\")\n",
    "# Si el estatus code no es 200 no se puede leer la página\n",
    "if (req.status_code != 200):\n",
    " raise Exception(\"No se puede hacer Web Scraping en\"+ URL)\n",
    "soup = BeautifulSoup(req.text, 'html.parser')\n",
    "\n",
    "tags = soup.findAll(\"h2\")\n",
    "\n",
    "for h2 in tags:\n",
    "    print(h2.text)\n",
    "    resultados.append(h2.text)\n",
    "\n",
    "req2 = requests.get(\"https://elpais.com/internacional\")\n",
    "# Si el estatus code no es 200 no se puede leer la página\n",
    "if (req.status_code != 200):\n",
    " raise Exception(\"No se puede hacer Web Scraping en\"+ URL)\n",
    "soup2 = BeautifulSoup(req2.text, 'html.parser')\n",
    "\n",
    "tags = soup2.findAll(\"h2\")\n",
    "\n",
    "for h2 in tags:\n",
    "    print(h2.text)\n",
    "    resultados.append(h2.text)\n",
    "\n",
    "req3 = requests.get(\"https://elpais.com/opinion\")\n",
    "# Si el estatus code no es 200 no se puede leer la página\n",
    "if (req.status_code != 200):\n",
    " raise Exception(\"No se puede hacer Web Scraping en\"+ URL)\n",
    "soup3 = BeautifulSoup(req3.text, 'html.parser')\n",
    "\n",
    "tags = soup3.findAll(\"h2\")\n",
    "\n",
    "for h2 in tags:\n",
    "    print(h2.text)\n",
    "    resultados.append(h2.text)\n",
    "\n",
    "req4 = requests.get(\"https://elpais.com/espana/\")\n",
    "# Si el estatus code no es 200 no se puede leer la página\n",
    "if (req.status_code != 200):\n",
    " raise Exception(\"No se puede hacer Web Scraping en\"+ URL)\n",
    "soup4 = BeautifulSoup(req4.text, 'html.parser')\n",
    "\n",
    "tags = soup4.findAll(\"h2\")\n",
    "\n",
    "for h2 in tags:\n",
    "    print(h2.text)\n",
    "    resultados.append(h2.text)\n",
    "\n",
    "req5 = requests.get(\"https://elpais.com/economia/\")\n",
    "# Si el estatus code no es 200 no se puede leer la página\n",
    "if (req.status_code != 200):\n",
    " raise Exception(\"No se puede hacer Web Scraping en\"+ URL)\n",
    "soup5 = BeautifulSoup(req5.text, 'html.parser')\n",
    "\n",
    "tags = soup5.findAll(\"h2\")\n",
    "\n",
    "for h2 in tags:\n",
    "    print(h2.text)\n",
    "    resultados.append(h2.text)\n",
    "\n",
    "req6 = requests.get(\"https://elpais.com/sociedad/\")\n",
    "# Si el estatus code no es 200 no se puede leer la página\n",
    "if (req.status_code != 200):\n",
    " raise Exception(\"No se puede hacer Web Scraping en\"+ URL)\n",
    "soup6 = BeautifulSoup(req6.text, 'html.parser')\n",
    "\n",
    "tags = soup6.findAll(\"h2\")\n",
    "\n",
    "for h2 in tags:\n",
    "    print(h2.text)\n",
    "    resultados.append(h2.text)\n",
    "\n",
    "req7 = requests.get(\"https://elpais.com/educacion/\")\n",
    "# Si el estatus code no es 200 no se puede leer la página\n",
    "if (req.status_code != 200):\n",
    " raise Exception(\"No se puede hacer Web Scraping en\"+ URL)\n",
    "soup7 = BeautifulSoup(req7.text, 'html.parser')\n",
    "\n",
    "tags = soup7.findAll(\"h2\")\n",
    "\n",
    "for h2 in tags:\n",
    "    print(h2.text)\n",
    "    resultados.append(h2.text)\n",
    "\n",
    "req8 = requests.get(\"https://elpais.com/clima-y-medio-ambiente/\")\n",
    "# Si el estatus code no es 200 no se puede leer la página\n",
    "if (req.status_code != 200):\n",
    " raise Exception(\"No se puede hacer Web Scraping en\"+ URL)\n",
    "soup8 = BeautifulSoup(req8.text, 'html.parser')\n",
    "\n",
    "tags = soup8.findAll(\"h2\")\n",
    "\n",
    "for h2 in tags:\n",
    "    print(h2.text)\n",
    "    resultados.append(h2.text)\n",
    "\n",
    "req9 = requests.get(\"https://elpais.com/ciencia/\")\n",
    "# Si el estatus code no es 200 no se puede leer la página\n",
    "if (req.status_code != 200):\n",
    " raise Exception(\"No se puede hacer Web Scraping en\"+ URL)\n",
    "soup9 = BeautifulSoup(req9.text, 'html.parser')\n",
    "\n",
    "tags = soup9.findAll(\"h2\")\n",
    "\n",
    "for h2 in tags:\n",
    "    print(h2.text)\n",
    "    resultados.append(h2.text)\n",
    "\n",
    "req10 = requests.get(\"https://elpais.com/cultura/\")\n",
    "# Si el estatus code no es 200 no se puede leer la página\n",
    "if (req.status_code != 200):\n",
    " raise Exception(\"No se puede hacer Web Scraping en\"+ URL)\n",
    "soup10 = BeautifulSoup(req10.text, 'html.parser')\n",
    "\n",
    "tags = soup10.findAll(\"h2\")\n",
    "\n",
    "for h2 in tags:\n",
    "    print(h2.text)\n",
    "    resultados.append(h2.text)\n",
    "\n",
    "req11 = requests.get(\"https://elpais.com/babelia/\")\n",
    "# Si el estatus code no es 200 no se puede leer la página\n",
    "if (req.status_code != 200):\n",
    " raise Exception(\"No se puede hacer Web Scraping en\"+ URL)\n",
    "soup11 = BeautifulSoup(req11.text, 'html.parser')\n",
    "\n",
    "tags = soup11.findAll(\"h2\")\n",
    "\n",
    "for h2 in tags:\n",
    "    print(h2.text)\n",
    "    resultados.append(h2.text)\n",
    "\n",
    "req12 = requests.get(\"https://elpais.com/deportes/\")\n",
    "# Si el estatus code no es 200 no se puede leer la página\n",
    "if (req.status_code != 200):\n",
    " raise Exception(\"No se puede hacer Web Scraping en\"+ URL)\n",
    "soup12 = BeautifulSoup(req12.text, 'html.parser')\n",
    "\n",
    "tags = soup12.findAll(\"h2\")\n",
    "\n",
    "for h2 in tags:\n",
    "    print(h2.text)\n",
    "    resultados.append(h2.text)\n",
    "\n",
    "req13 = requests.get(\"https://elpais.com/tecnologia/\")\n",
    "# Si el estatus code no es 200 no se puede leer la página\n",
    "if (req.status_code != 200):\n",
    " raise Exception(\"No se puede hacer Web Scraping en\"+ URL)\n",
    "soup13 = BeautifulSoup(req13.text, 'html.parser')\n",
    "\n",
    "tags = soup13.findAll(\"h2\")\n",
    "\n",
    "for h2 in tags:\n",
    "    print(h2.text)\n",
    "    resultados.append(h2.text)\n",
    "\n",
    "req14 = requests.get(\"https://elpais.com/tecnologia/\")\n",
    "# Si el estatus code no es 200 no se puede leer la página\n",
    "if (req.status_code != 200):\n",
    " raise Exception(\"No se puede hacer Web Scraping en\"+ URL)\n",
    "soup14 = BeautifulSoup(req14.text, 'html.parser')\n",
    "\n",
    "tags = soup14.findAll(\"h2\")\n",
    "\n",
    "for h2 in tags:\n",
    "    print(h2.text)\n",
    "    resultados.append(h2.text)\n",
    "\n",
    "req15 = requests.get(\"https://elpais.com/gente/\")\n",
    "# Si el estatus code no es 200 no se puede leer la página\n",
    "if (req.status_code != 200):\n",
    " raise Exception(\"No se puede hacer Web Scraping en\"+ URL)\n",
    "soup15 = BeautifulSoup(req15.text, 'html.parser')\n",
    "\n",
    "tags = soup15.findAll(\"h2\")\n",
    "\n",
    "for h2 in tags:\n",
    "    print(h2.text)\n",
    "    resultados.append(h2.text)\n",
    "\n",
    "req16 = requests.get(\"https://elpais.com/television/\")\n",
    "# Si el estatus code no es 200 no se puede leer la página\n",
    "if (req.status_code != 200):\n",
    " raise Exception(\"No se puede hacer Web Scraping en\"+ URL)\n",
    "soup16 = BeautifulSoup(req16.text, 'html.parser')\n",
    "\n",
    "tags = soup16.findAll(\"h2\")\n",
    "\n",
    "for h2 in tags:\n",
    "    print(h2.text)\n",
    "    resultados.append(h2.text)\n",
    "\n",
    "req17 = requests.get(\"https://elpais.com/eps/\")\n",
    "# Si el estatus code no es 200 no se puede leer la página\n",
    "if (req.status_code != 200):\n",
    " raise Exception(\"No se puede hacer Web Scraping en\"+ URL)\n",
    "soup17 = BeautifulSoup(req17.text, 'html.parser')\n",
    "\n",
    "tags = soup17.findAll(\"h2\")\n",
    "\n",
    "for h2 in tags:\n",
    "    print(h2.text)\n",
    "    resultados.append(h2.text)\n",
    "\n",
    "\n",
    "os.system(\"clear\")\n",
    "\n",
    "print(colored(\"A continuación se muestran los titulares de las páginas principales del diario El País que contienen las siguientes palabras:\", 'blue', attrs=['bold']))\n",
    "print(colored(\"Feminismo\", 'green', attrs=['bold']))\n",
    "\n",
    "str_match = [s for s in resultados if \"feminismo\" in s]\n",
    "print(\"\\n\".join(str_match))\n",
    "\n",
    "print(colored(\"Igualdad\", 'green', attrs=['bold']))\n",
    "\n",
    "str_match = [s for s in resultados if \"igualdad\" in s]\n",
    "print(\"\\n\".join(str_match))\n",
    "\n",
    "print(colored(\"Mujeres\", 'green', attrs=['bold']))\n",
    "\n",
    "str_match = [s for s in resultados if \"mujeres\" in s]\n",
    "print(\"\\n\".join(str_match))\n",
    "\n",
    "print(colored(\"Mujer\", 'green', attrs=['bold']))\n",
    "\n",
    "str_match = [s for s in resultados if \"mujer\" in s]\n",
    "print(\"\\n\".join(str_match))\n",
    "\n",
    "print(colored(\"Brecha salarial\", 'green', attrs=['bold']))\n",
    "\n",
    "str_match = [s for s in resultados if \"brecha salarial\" in s]\n",
    "print(\"\\n\".join(str_match))\n",
    "\n",
    "print(colored(\"Machismo\", 'green', attrs=['bold']))\n",
    "\n",
    "str_match = [s for s in resultados if \"machismo\" in s]\n",
    "print(\"\\n\".join(str_match))\n",
    "\n",
    "print(colored(\"Violencia\", 'green', attrs=['bold']))\n",
    "\n",
    "str_match = [s for s in resultados if \"violencia\" in s]\n",
    "print(\"\\n\".join(str_match))\n",
    "\n",
    "print(colored(\"Maltrato\", 'green', attrs=['bold']))\n",
    "\n",
    "str_match = [s for s in resultados if \"maltrato\" in s]\n",
    "print(\"\\n\".join(str_match))\n",
    "\n",
    "print(colored(\"Homicidio\", 'green', attrs=['bold']))\n",
    "\n",
    "str_match = [s for s in resultados if \"homicidio\" in s]\n",
    "print(\"\\n\".join(str_match))\n",
    "\n",
    "print(colored(\"Género\", 'green', attrs=['bold']))\n",
    "\n",
    "str_match = [s for s in resultados if \"género\" in s]\n",
    "print(\"\\n\".join(str_match))\n",
    "\n",
    "print(colored(\"Asesinato\", 'green', attrs=['bold']))\n",
    "\n",
    "str_match = [s for s in resultados if \"asesinato\" in s]\n",
    "print(\"\\n\".join(str_match))\n",
    "\n",
    "print(colored(\"Sexo\", 'green', attrs=['bold']))\n",
    "\n",
    "str_match = [s for s in resultados if \"sexo\" in s]\n",
    "print(\"\\n\".join(str_match))"
   ]
  },
  {
   "cell_type": "markdown",
   "id": "2d5d176f",
   "metadata": {},
   "source": [
    "## Se instalan librerías"
   ]
  },
  {
   "cell_type": "code",
   "execution_count": 23,
   "id": "7850087e",
   "metadata": {},
   "outputs": [
    {
     "name": "stdout",
     "output_type": "stream",
     "text": [
      "Requirement already satisfied: requests in c:\\users\\usuario\\anaconda3\\lib\\site-packages (2.28.1)\n",
      "Collecting bs4\n",
      "  Downloading bs4-0.0.1.tar.gz (1.1 kB)\n",
      "  Preparing metadata (setup.py): started\n",
      "  Preparing metadata (setup.py): finished with status 'done'\n",
      "Requirement already satisfied: pandas in c:\\users\\usuario\\anaconda3\\lib\\site-packages (1.4.4)\n",
      "Collecting termcolor\n",
      "  Downloading termcolor-2.1.1-py3-none-any.whl (6.2 kB)\n",
      "Requirement already satisfied: urllib3<1.27,>=1.21.1 in c:\\users\\usuario\\anaconda3\\lib\\site-packages (from requests) (1.26.11)\n",
      "Requirement already satisfied: charset-normalizer<3,>=2 in c:\\users\\usuario\\anaconda3\\lib\\site-packages (from requests) (2.0.4)\n",
      "Requirement already satisfied: certifi>=2017.4.17 in c:\\users\\usuario\\anaconda3\\lib\\site-packages (from requests) (2022.9.14)\n",
      "Requirement already satisfied: idna<4,>=2.5 in c:\\users\\usuario\\anaconda3\\lib\\site-packages (from requests) (3.3)\n",
      "Requirement already satisfied: beautifulsoup4 in c:\\users\\usuario\\anaconda3\\lib\\site-packages (from bs4) (4.11.1)\n",
      "Requirement already satisfied: pytz>=2020.1 in c:\\users\\usuario\\anaconda3\\lib\\site-packages (from pandas) (2022.1)\n",
      "Requirement already satisfied: numpy>=1.18.5 in c:\\users\\usuario\\anaconda3\\lib\\site-packages (from pandas) (1.21.5)\n",
      "Requirement already satisfied: python-dateutil>=2.8.1 in c:\\users\\usuario\\anaconda3\\lib\\site-packages (from pandas) (2.8.2)\n",
      "Requirement already satisfied: six>=1.5 in c:\\users\\usuario\\anaconda3\\lib\\site-packages (from python-dateutil>=2.8.1->pandas) (1.16.0)\n",
      "Requirement already satisfied: soupsieve>1.2 in c:\\users\\usuario\\anaconda3\\lib\\site-packages (from beautifulsoup4->bs4) (2.3.1)\n",
      "Building wheels for collected packages: bs4\n",
      "  Building wheel for bs4 (setup.py): started\n",
      "  Building wheel for bs4 (setup.py): finished with status 'done'\n",
      "  Created wheel for bs4: filename=bs4-0.0.1-py3-none-any.whl size=1257 sha256=ecca57db005167c16ab6a694b5db55dafc35d583eab6e3c3809b24b64dfb117f\n",
      "  Stored in directory: c:\\users\\usuario\\appdata\\local\\pip\\cache\\wheels\\73\\2b\\cb\\099980278a0c9a3e57ff1a89875ec07bfa0b6fcbebb9a8cad3\n",
      "Successfully built bs4\n",
      "Installing collected packages: termcolor, bs4\n",
      "Successfully installed bs4-0.0.1 termcolor-2.1.1\n",
      "Note: you may need to restart the kernel to use updated packages.\n"
     ]
    }
   ],
   "source": [
    "pip install requests bs4 pandas termcolor"
   ]
  },
  {
   "cell_type": "markdown",
   "id": "94a56dd5",
   "metadata": {},
   "source": [
    "## Se importan librerías"
   ]
  },
  {
   "cell_type": "markdown",
   "id": "801d8824",
   "metadata": {},
   "source": [
    "Primero, importamos de la librería la función `requests` para hacer peticiones de datos:"
   ]
  },
  {
   "cell_type": "code",
   "execution_count": 25,
   "id": "d54f7ffa",
   "metadata": {},
   "outputs": [],
   "source": [
    "import requests"
   ]
  },
  {
   "cell_type": "markdown",
   "id": "2bfd2944",
   "metadata": {},
   "source": [
    "Después, importamos de la librería la función `time` pues nos interesa el tiempo horario y hacer peticiones en tiempos determinados:"
   ]
  },
  {
   "cell_type": "code",
   "execution_count": 26,
   "id": "a6aba9e4",
   "metadata": {},
   "outputs": [],
   "source": [
    "import time"
   ]
  },
  {
   "cell_type": "markdown",
   "id": "9c7a3063",
   "metadata": {},
   "source": [
    "A continuación, se importa la función `csv` porque se espera que en algún momento trabaje con dicha función:"
   ]
  },
  {
   "cell_type": "code",
   "execution_count": 27,
   "id": "1b8a6403",
   "metadata": {},
   "outputs": [],
   "source": [
    "import csv"
   ]
  },
  {
   "cell_type": "markdown",
   "id": "16f375cd",
   "metadata": {},
   "source": [
    "Se importa después la libería de expresiones regulares, `re`, que puede ser usada para las coincidencias:"
   ]
  },
  {
   "cell_type": "code",
   "execution_count": 28,
   "id": "f8cd8981",
   "metadata": {},
   "outputs": [],
   "source": [
    "import re"
   ]
  },
  {
   "cell_type": "markdown",
   "id": "56700242",
   "metadata": {},
   "source": [
    "Se importa la librería de Python bajo la función `BeautifulSoup` para extraer datos de archivos HTML y XML."
   ]
  },
  {
   "cell_type": "code",
   "execution_count": 29,
   "id": "3617baf7",
   "metadata": {},
   "outputs": [],
   "source": [
    "from bs4 import BeautifulSoup"
   ]
  },
  {
   "cell_type": "markdown",
   "id": "f1fc32f5",
   "metadata": {},
   "source": [
    "Se importa la librería `os`para usar funcionalidades dependientes del sistema operativo. "
   ]
  },
  {
   "cell_type": "code",
   "execution_count": 30,
   "id": "71697144",
   "metadata": {},
   "outputs": [],
   "source": [
    "import os"
   ]
  },
  {
   "cell_type": "markdown",
   "id": "ab72b7d5",
   "metadata": {},
   "source": [
    "Lo siguiente es importar la librería `pandas` con el abreviado estándar para hacer referencia a pandas `as`:"
   ]
  },
  {
   "cell_type": "code",
   "execution_count": 31,
   "id": "2ff0d15e",
   "metadata": {},
   "outputs": [],
   "source": [
    "import pandas as pd"
   ]
  },
  {
   "cell_type": "markdown",
   "id": "6b4426a0",
   "metadata": {},
   "source": [
    "A continuación se importa desde el módulo `termcolor` la un función `colored` que permite imprimir texto en color:"
   ]
  },
  {
   "cell_type": "code",
   "execution_count": 24,
   "id": "8d9db42e",
   "metadata": {
    "scrolled": true
   },
   "outputs": [],
   "source": [
    "from termcolor import colored"
   ]
  },
  {
   "cell_type": "markdown",
   "id": "b916f59d",
   "metadata": {},
   "source": [
    "## Objetos o variables"
   ]
  },
  {
   "cell_type": "markdown",
   "id": "92d0c76a",
   "metadata": {},
   "source": [
    "Se crea una variable en la que vacia en la que se pueden añadir los resultados del *Scrapping*:"
   ]
  },
  {
   "cell_type": "code",
   "execution_count": 32,
   "id": "87cdbb78",
   "metadata": {},
   "outputs": [],
   "source": [
    "resultados = []"
   ]
  },
  {
   "cell_type": "markdown",
   "id": "7f2b5320",
   "metadata": {},
   "source": [
    "A continuación, usamos la función `Type()` para organizar los resultados obtenidos en forma de lista:"
   ]
  },
  {
   "cell_type": "code",
   "execution_count": 34,
   "id": "b299571c",
   "metadata": {},
   "outputs": [
    {
     "data": {
      "text/plain": [
       "list"
      ]
     },
     "execution_count": 34,
     "metadata": {},
     "output_type": "execute_result"
    }
   ],
   "source": [
    "type(resultados)"
   ]
  },
  {
   "cell_type": "markdown",
   "id": "45c3de6e",
   "metadata": {},
   "source": [
    "## Solicitud de acceso a datos para el sitio web de El País"
   ]
  },
  {
   "cell_type": "markdown",
   "id": "40c9c43a",
   "metadata": {},
   "source": [
    "Agregamos una variable en la que se pueda solicitar información de la URL: req=requests.get (\"https://resultados.elpais.com\")"
   ]
  },
  {
   "cell_type": "code",
   "execution_count": 35,
   "id": "afbb5e18",
   "metadata": {},
   "outputs": [],
   "source": [
    "req = requests.get(\"https://resultados.elpais.com\")"
   ]
  },
  {
   "cell_type": "markdown",
   "id": "9ba3e7ed",
   "metadata": {},
   "source": [
    "Más tarde, escribimos la función `type()` y esa es la respuesta de la función `request`: "
   ]
  },
  {
   "cell_type": "code",
   "execution_count": 37,
   "id": "53216c9c",
   "metadata": {},
   "outputs": [
    {
     "data": {
      "text/plain": [
       "requests.models.Response"
      ]
     },
     "execution_count": 37,
     "metadata": {},
     "output_type": "execute_result"
    }
   ],
   "source": [
    "type(req)"
   ]
  },
  {
   "cell_type": "markdown",
   "id": "f6fc5530",
   "metadata": {},
   "source": [
    "Después utilizamos un condicional de tipo `if`. De este modo, cuando el valor no sea 200, no se pueda leer la página. "
   ]
  },
  {
   "cell_type": "markdown",
   "id": "a5ee97ed",
   "metadata": {},
   "source": [
    "Si el valor es 200, la página podrá verse con éxito."
   ]
  },
  {
   "cell_type": "code",
   "execution_count": 38,
   "id": "8fb6b035",
   "metadata": {},
   "outputs": [],
   "source": [
    "# Si el estatus code no es 200 no se puede leer la página\n",
    "if (req.status_code != 200):\n",
    " raise Exception(\"No se puede hacer Web Scraping en\"+ URL)"
   ]
  },
  {
   "cell_type": "markdown",
   "id": "66ff3e6d",
   "metadata": {},
   "source": [
    "## Aquí comienza a actuar el Beautiful soap"
   ]
  },
  {
   "cell_type": "markdown",
   "id": "22d236ff",
   "metadata": {},
   "source": [
    "A continuación agregamos una variable que facilita extraer información de páginas web:"
   ]
  },
  {
   "cell_type": "code",
   "execution_count": 39,
   "id": "a7674c4c",
   "metadata": {},
   "outputs": [],
   "source": [
    "soup = BeautifulSoup(req.text, 'html.parser')"
   ]
  },
  {
   "cell_type": "markdown",
   "id": "4818966a",
   "metadata": {},
   "source": [
    "Aquí agregamos la variable `tags` que permita encontrar los `h2` dentro de la página ya mencionada:"
   ]
  },
  {
   "cell_type": "code",
   "execution_count": 41,
   "id": "04ff83fb",
   "metadata": {},
   "outputs": [],
   "source": [
    "tags = soup.findAll(\"h2\")"
   ]
  },
  {
   "cell_type": "markdown",
   "id": "34d87b7a",
   "metadata": {},
   "source": [
    "Utilizamos la función `for` para encontrar todos los `h2` que se encuentran en la función anterior y que muestre el texto dentro de las etiquetas. "
   ]
  },
  {
   "cell_type": "markdown",
   "id": "522cc668",
   "metadata": {},
   "source": [
    "Seguido a lo anterior utilizamos `resultados.append(h2.text)` para añadir todos los textos que están en las etiquetas a la lista inicial resultados:"
   ]
  },
  {
   "cell_type": "code",
   "execution_count": 43,
   "id": "e0c39634",
   "metadata": {},
   "outputs": [
    {
     "name": "stdout",
     "output_type": "stream",
     "text": [
      "El Mundial, en vivo\n",
      "Universo Mundial\n",
      "El calendario a seguir desde América\n",
      "¿Quién va a ganar? Simulador y pronóstico de cada selección \n",
      "La ‘newsletter’\n",
      "Las protestas se extienden en China contra la política de covid cero\n",
      "La gestión del frío enfrenta a Zelenski y al alcalde de Kiev\n",
      "La vida bajo los bombardeos rusos\n",
      "Así se vive en un refugio invernal durante la guerra\n",
      "Pobreza en el Olimpo académico de EE UU: la huelga que cimbra a la Universidad de California \n",
      "El caótico primer mes de Elon Musk en Twitter\n",
      "‘Argentina, 1985’, un debate nacional entre la ficción y la memoria\n",
      "Alemania rescata un empate contra España sobre el final del partido\n",
      "Un empate socialdemócrata\n",
      "Datos y gráficos | Alemania explota un error de España para empatar un partido equilibrado\n",
      "Croacia da vuelta el partido y elimina a Canadá (4-1)\n",
      "Marruecos da un batacazo a Bélgica sobre el final (0-2)\n",
      "Costa Rica se redime ante un Japón sin puntería (0-1)\n",
      "Madrid, la nueva Miami: así se han hecho con la capital española los ricos latinoamericanos\n",
      "López Obrador saca músculo en las calles con una manifestación masiva en México\n",
      "El Bosque, el pueblo mexicano que se tragó el mar\n",
      "Argentina contra la impunidad de los feminicidios\n",
      "Neofascistas, nacionalpopulistas, tecnosoberanistas. ¿Cómo llamamos a las nuevas derechas radicales? \n",
      "Las abuelas que han viralizado el arte de elaborar la pasta italiana\n",
      "Pepa Bueno: “Las páginas de EL PAÍS tienen que ser el lugar donde los diferentes se encuentren”\n",
      "Videoanálisis | La FIL mastodóntica y popular está de vuelta\n",
      "La FIL de Guadalajara pone una vela al libro y otra al balón\n",
      "Concepción Company: “De todos los mexicanismos me quedo con apapachar”\n",
      "El acoso invernal de Putin \n",
      "Por el bien de todos\n",
      "Otra forma de violencia política\n",
      "Yo te vi, papá, emocionarte con Messi\n",
      "Ideas de regalos para el jardinero\n",
      "Guía de regalos para el ‘foodie’\n",
      "Bolsonaro reaparece en una ceremonia militar tras batallar su derrota desde la trastienda\n",
      "El sueño hecho realidad del refugiado sirio del selfi con Merkel\n",
      "Crónica del asesinato de una niña en la Francia rural\n",
      "La violencia verbal de Vox desborda el Congreso español\n",
      "\n",
      "El negocio de las chicas imagen en las discotecas: “La misión es sonreír y que los hombres beban más”\n",
      "Las guatemaltecas que estudian ingeniería para llevar luz a sus comunidades\n",
      "Impresiones 3D y Telegram: el premiado proyecto de estudiantes colombianos para potabilizar agua\n",
      "La ‘ciudad esponja’: diez soluciones para resolver el problema del agua en México\n",
      "Cómic y energía nuclear: el superventas francés que sacude el debate sobre el cambio climático\n",
      "En la biblioteca de Almudena Grandes\n",
      "Otras mujeres\n",
      "Adiós a Ellen Pompeo, la funcionaria de la tele\n",
      "¿Selfie sí o selfie no en Art Basel?\n",
      "De las galerías a las calles: así se hizo importante Miami para el arte del mundo\n",
      "La bestial tensión sexual entre Bruce Willis y Cybill Shepherd en ‘Luz de luna’, la serie en la que la actriz tuvo mucho que decir\n",
      "Confesiones de la mujer que lleva 40 años decidiendo quién será el nuevo James Bond\n",
      "Alessandro Michele, crónica de una salida anunciada\n",
      "Leonor Lavado: “Somos como hablamos: la voz es nuestro ADN psicológico”\n",
      "De la carnicería de su padre en España a la estrella Michelin en Chicago\n",
      "Macondo Inundado: el pueblo donde nunca deja de llover \n",
      "Dormir en una caja a 200 euros la noche para asistir al Mundial de Qatar\n",
      "Retrato de Pablo Milanés a través de sus 10 canciones más decisivas\n",
      "De Honduras a Ucrania: cuando un niño crece bajo las bombas\n",
      "Qatar 2022, el único mundial donde es posible ver dos partidos en un mismo día\n",
      "¿Qué estrella tuvo el mejor debut en el Mundial? El ‘tier list’ de Jesús Gallego, Bruno Alemany y Aritz Gabilondo\n",
      "Enredados en el Mundial | Los jugadores iraníes vuelven a cantar el himno y ha nacido una estrella en EE UU\n",
      "Al menos 500 alpacas mueren por una ola de frío en Perú\n",
      "Los partidarios de Bolsonaro utilizan sus móviles para pedir un golpe “extraterrestre” \n",
      "Cuatro carceleros dan un brutal paliza a un hombre negro en Georgia\n",
      "Protests spread across China as anger builds over Xi Jinping’s zero-Covid policy \n",
      "War in Ukraine: The battle to survive sub-zero temperatures \n",
      "The story of a crypto scammer that ended in suicide\n",
      "To boost oil supplies, US looks to lift sanctions on Venezuela\n",
      "Americanas: Reportajes y noticias sobre feminismo e historias con enfoque de género de la región\n",
      "Toda la actualidad científica en el boletín de Materia\n",
      "Letras Americanas: la actualidad literaria de un continente vista por el escritor Emiliano Monge\n",
      "Ideas: reportajes y entrevistas para entender el mundo\n",
      "El Kremlin silencia el dolor de las mujeres rusas que critican la guerra de Ucrania \n",
      "El primer ministro de Rumania: “Necesitamos un esfuerzo común en la OTAN para defender cada centímetro de territorio frente a Rusia”  \n",
      "La justicia investiga si el Gobierno de Macron favoreció a consultoras privadas en las dos últimas campañas presidenciales en Francia\n",
      "Aquí puede buscar si ha sido engañado por la estafa internacional de las criptomonedas\n",
      "El secreto de la pirámide\n",
      "El futuro de las compras: más redes sociales, pago a plazos y vuelta de la tienda física\n",
      " El Papa detecta fallos en Caritas Internationalis y cesa a sus responsables \n",
      "La Iglesia italiana da por primera vez cifras de los abusos cometidos por el clero\n",
      "El Senado de EE UU da un paso clave para blindar el matrimonio homosexual frente al Supremo\n",
      "Muere Hans Magnus Enzensberger, gran intelectual alemán del siglo XX\n",
      "‘Close’, una mirada conmovedora a la fragilidad de la preadolescencia\n",
      "La gran retrospectiva de Vermeer en Ámsterdam aviva la polémica sobre la autoría de ‘Muchacha con flauta’\n",
      "Vivir con un trastorno alimentario: “Me di cuenta cuando me miré al espejo y vi la muerte”\n",
      "Josefa Ros Velasco, filósofa: “Si alguien se aburre suele darse a la botella, cuando le pasa a un país suele darse una revuelta”\n",
      "La insólita historia de la mujer que descubrió el primer antibiótico español\n",
      "Canadá conquista su primera Davis a lomos de Aliassime\n",
      "La selección femenina de baloncesto se clasifica para el próximo Eurobasket\n",
      "La trituradora del Barcelona no tiene piedad con el Atlético (1-6)\n",
      "Operación ‘OS35’: cómo rescatar un gigante de 40.288 toneladas varado a la sombra de Gibraltar\n",
      "¿Podré matar a una rata que entre en mi casa? Claves de la reforma del Código Penal para castigar más el maltrato animal\n",
      "La izquierda retira por sorpresa y a última hora la propuesta para abolir los toros en Francia \n",
      "Mastodon: qué es y cómo funciona la red social en la que los usuarios deciden qué está permitido\n",
      "Así serán las nuevas marcas de verificación en Twitter: azul, oro y gris\n",
      "Gafas con funciones de un móvil, ‘Photoshop’ instantáneo y otros inminentes avances gracias a los nuevos chips\n",
      "Sánchez pide a la patronal que negocie con los sindicatos un acuerdo salarial\n",
      "El pasado franquista pervive en Santa Cruz de Tenerife\n",
      "La federación de la España Vaciada busca implantarse en todo el país \n",
      "‘The Peripheral’, realidad, ficción y un futuro ciberpunk con los creadores de ‘Westworld’\n",
      "‘Ummo’, un guirigay intergaláctico’, por Jimina Sabadú\n",
      "El ‘bon vivant’ acorralado de la FIFA que grabó a sus amigos\n",
      "Windsor desvela su decoración navideña en las primeras festividades sin Isabel II y con Carlos III como rey\n",
      "Camila y los 1.000 osos Paddington: la reina entrega a una ONG infantil los peluches en homenaje a Isabel II\n",
      "Stallone vs. Schwarzenegger, la “competición” eterna: “Éramos antagonistas. Soñaba con pegarle y él con pegarme a mí”\n",
      "El misterio de Manuel Carrasco: cómo salir de una barriada de pescadores y acabar siendo un cantante que llena estadios\n",
      "Los guardianes de la ensaladilla rusa, la tapa popular que subió a los altares ‘gourmet’ \n",
      "Erri De Luca, escritor: “Construir una vida es más difícil que contarla”\n",
      "Descansar está mal visto: el arte perdido del reposo\n",
      "Perdidos en el laberinto del paro\n",
      "Su vecino lo timaba con la calefacción central\n",
      "En la cuneta del sueño americano\n",
      "Descuidos de seleccionador: los lectores agregan libros de fútbol que no entraron en la lista\n",
      "Mi combate contra la ablación y el VIH en Senegal\n",
      "Masacre en Melilla: la peligrosa decisión de socialistas y populares\n",
      "Oyambre, Son Bou y otras nueve playas españolas para un baño de historia\n",
      "Cómo actuar ante el caos de los aeropuertos: qué hacer frente a retrasos y cancelaciones de un vuelo\n",
      "Samantha Hudson: “Me va bien económicamante, pero no soy Paula Echevarría. Nunca seré normativa”\n",
      "Alaska: “No entiendo la cultura de la cancelación”\n",
      "¿Es buena idea masturbarse antes de salir? Las verdades y mentiras de la relajación posorgasmo\n",
      "El dilema Kit Connor: ¿debe conocerse la sexualidad de un actor para interpretar un papel gay?\n",
      "Vender carne... y un estilo de vida: así son las nuevas hamburgueserías\n",
      "¿Cuál es la mejor receta de puré de patatas?\n",
      "Las nuevas jubilaciones: más retiros parciales, casi a los 65 años y cobrando 1.258 euros\n",
      "“Me rompí por dentro y hasta hoy”: desgarrador testimonio de una mujer a la que nadie creyó mientras era víctima de acoso\n",
      "Macarena Olona sorprende a todos al publicar este mensaje sobre Begoña Gómez\n",
      "Le van a llover los palos: la cantada de Courtois que mete en un lío gordo a Bélgica\n",
      "Ocho mil millones de cursis\n",
      "Las 10 mejores películas y sagas posapocalípticas\n"
     ]
    }
   ],
   "source": [
    "for h2 in tags:\n",
    "    print(h2.text)\n",
    "    resultados.append(h2.text)"
   ]
  },
  {
   "cell_type": "markdown",
   "id": "e38d8ba6",
   "metadata": {},
   "source": [
    "Realizamos los mismos pasos para todas las secciones del diario El País. Por ejemplo, así se haría con la sección **internacional**:"
   ]
  },
  {
   "cell_type": "code",
   "execution_count": 44,
   "id": "faf45f5f",
   "metadata": {},
   "outputs": [
    {
     "name": "stdout",
     "output_type": "stream",
     "text": [
      "Las protestas se extienden en China contra la política de covid cero\n",
      "Hartazgo, estragos económicos y accidentes mortales: claves para entender las protestas en China\n",
      "El último Iphone, perfumes de Chanel o un Rolex: las marcas occidentales llenan los escaparates rusos pese a las sanciones\n",
      "Publicar no es un delito\n",
      "La vida bajo los bombardeos rusos\n",
      "Democracias a la defensiva\n",
      "La UE vista desde el G-20 de Bali \n",
      "El arte ruso de la provocación\n",
      "China y Estados Unidos, condenadas a entenderse y a rivalizar\n",
      "Lecciones en Ucrania para ser reportero de guerra: explosiones de fogueo, torniquetes y campos de minas\n",
      "De la manifestación al patíbulo: el régimen iraní amenaza con la horca para sofocar las protestas\n",
      "Publicar no es un delito\n",
      "Los medios de los cables de WikiLeaks piden a EE UU que no persiga a Assange\n",
      "La gestión del frío enfrenta a Zelenski y al alcalde de Kiev\n",
      "El sueño hecho realidad del refugiado sirio del selfi con Merkel\n",
      "Los trabajadores migrantes de provincias en China estallan contra los confinamientos por covid\n",
      "Sobrevivir bajo cero en Ucrania\n",
      "La UE teme que los ataques rusos contra la red eléctrica de Ucrania fuercen otra oleada de refugiados\n",
      "Encuentran el cadáver de una niña desaparecida en el corrimiento de tierra en la isla italiana de Ischia\n",
      "Justin Trudeau justifica el uso de la Ley de emergencia para desalojar a los camioneros antivacunas\n",
      "La nota del autor de la matanza del Walmart de Virginia: “Se reían de mí y decían que era un asesino en serie”\n",
      "La pobreza se ceba con los menores de 18 años en América Latina\n",
      "Tres horas libres en el trabajo para ver el partido… ¡Bienvenidos a Brasil!\n",
      "Petro y López Obrador estrenan un eje latinoamericano con el éxito de la negociación de Venezuela como trasfondo\n"
     ]
    }
   ],
   "source": [
    "req2 = requests.get(\"https://elpais.com/internacional\")\n",
    "# Si el estatus code no es 200 no se puede leer la página\n",
    "if (req.status_code != 200):\n",
    " raise Exception(\"No se puede hacer Web Scraping en\"+ URL)\n",
    "soup2 = BeautifulSoup(req2.text, 'html.parser')\n",
    "\n",
    "tags = soup2.findAll(\"h2\")\n",
    "\n",
    "for h2 in tags:\n",
    "    print(h2.text)\n",
    "    resultados.append(h2.text)"
   ]
  },
  {
   "cell_type": "markdown",
   "id": "0c658d76",
   "metadata": {},
   "source": [
    "## Titulares y estilo de las páginas principales de El País"
   ]
  },
  {
   "cell_type": "markdown",
   "id": "40082d2c",
   "metadata": {},
   "source": [
    "Lo primero que se puede hacer es utilizar una función para que se haga una limpieza después de realizar el web *Scrapping*:"
   ]
  },
  {
   "cell_type": "code",
   "execution_count": 52,
   "id": "ee9548a4",
   "metadata": {},
   "outputs": [
    {
     "data": {
      "text/plain": [
       "1"
      ]
     },
     "execution_count": 52,
     "metadata": {},
     "output_type": "execute_result"
    }
   ],
   "source": [
    "os.system(\"clear\")"
   ]
  },
  {
   "cell_type": "markdown",
   "id": "c895b35f",
   "metadata": {},
   "source": [
    "A continuación, con la función `print(colored)`, seguido del uso de `bold`, se pueden poner los titulares en negrita. Para probarlo, se subdividirán los títulares que digan feminismo:"
   ]
  },
  {
   "cell_type": "code",
   "execution_count": 48,
   "id": "9f5fb9cf",
   "metadata": {},
   "outputs": [
    {
     "name": "stdout",
     "output_type": "stream",
     "text": [
      "A continuación se muestran los titulares de las páginas principales del diario El País que contienen las siguientes palabras:\n",
      "Feminismo\n"
     ]
    }
   ],
   "source": [
    "print(colored(\"A continuación se muestran los titulares de las páginas principales del diario El País que contienen las siguientes palabras:\", 'blue', attrs=['bold']))\n",
    "print(colored(\"Feminismo\", 'green', attrs=['bold']))"
   ]
  },
  {
   "cell_type": "markdown",
   "id": "f138e45d",
   "metadata": {},
   "source": [
    "Seguido de lo anterior, utilizamos la función `for` para, nuevamente, verificar que se contiene la palabra clave:"
   ]
  },
  {
   "cell_type": "code",
   "execution_count": 49,
   "id": "9ded081d",
   "metadata": {},
   "outputs": [
    {
     "name": "stdout",
     "output_type": "stream",
     "text": [
      "Americanas: Reportajes y noticias sobre feminismo e historias con enfoque de género de la región\n",
      "Americanas: Reportajes y noticias sobre feminismo e historias con enfoque de género de la región\n"
     ]
    }
   ],
   "source": [
    "str_match = [s for s in resultados if \"feminismo\" in s]\n",
    "print(\"\\n\".join(str_match))"
   ]
  },
  {
   "cell_type": "markdown",
   "id": "b5edb4b6",
   "metadata": {},
   "source": [
    "Se repite el mismo proceso con las demás palabras: "
   ]
  },
  {
   "cell_type": "code",
   "execution_count": 50,
   "id": "2e3b65f7",
   "metadata": {},
   "outputs": [
    {
     "name": "stdout",
     "output_type": "stream",
     "text": [
      "Igualdad\n",
      "\n",
      "Mujeres\n",
      "Otras mujeres\n",
      "El Kremlin silencia el dolor de las mujeres rusas que critican la guerra de Ucrania \n",
      "Otras mujeres\n",
      "El Kremlin silencia el dolor de las mujeres rusas que critican la guerra de Ucrania \n",
      "Mujer\n",
      "Otras mujeres\n",
      "Confesiones de la mujer que lleva 40 años decidiendo quién será el nuevo James Bond\n",
      "El Kremlin silencia el dolor de las mujeres rusas que critican la guerra de Ucrania \n",
      "La insólita historia de la mujer que descubrió el primer antibiótico español\n",
      "“Me rompí por dentro y hasta hoy”: desgarrador testimonio de una mujer a la que nadie creyó mientras era víctima de acoso\n",
      "Otras mujeres\n",
      "Confesiones de la mujer que lleva 40 años decidiendo quién será el nuevo James Bond\n",
      "El Kremlin silencia el dolor de las mujeres rusas que critican la guerra de Ucrania \n",
      "La insólita historia de la mujer que descubrió el primer antibiótico español\n",
      "“Me rompí por dentro y hasta hoy”: desgarrador testimonio de una mujer a la que nadie creyó mientras era víctima de acoso\n",
      "Brecha salarial\n",
      "\n",
      "Machismo\n",
      "\n",
      "Violencia\n",
      "Otra forma de violencia política\n",
      "La violencia verbal de Vox desborda el Congreso español\n",
      "\n",
      "Otra forma de violencia política\n",
      "La violencia verbal de Vox desborda el Congreso español\n",
      "\n",
      "Maltrato\n",
      "¿Podré matar a una rata que entre en mi casa? Claves de la reforma del Código Penal para castigar más el maltrato animal\n",
      "¿Podré matar a una rata que entre en mi casa? Claves de la reforma del Código Penal para castigar más el maltrato animal\n",
      "Homicidio\n",
      "\n",
      "Género\n",
      "Americanas: Reportajes y noticias sobre feminismo e historias con enfoque de género de la región\n",
      "Americanas: Reportajes y noticias sobre feminismo e historias con enfoque de género de la región\n",
      "Asesinato\n",
      "Crónica del asesinato de una niña en la Francia rural\n",
      "Crónica del asesinato de una niña en la Francia rural\n",
      "Sexo\n",
      "\n"
     ]
    }
   ],
   "source": [
    "print(colored(\"Igualdad\", 'green', attrs=['bold']))\n",
    "\n",
    "str_match = [s for s in resultados if \"igualdad\" in s]\n",
    "print(\"\\n\".join(str_match))\n",
    "\n",
    "print(colored(\"Mujeres\", 'green', attrs=['bold']))\n",
    "\n",
    "str_match = [s for s in resultados if \"mujeres\" in s]\n",
    "print(\"\\n\".join(str_match))\n",
    "\n",
    "print(colored(\"Mujer\", 'green', attrs=['bold']))\n",
    "\n",
    "str_match = [s for s in resultados if \"mujer\" in s]\n",
    "print(\"\\n\".join(str_match))\n",
    "\n",
    "print(colored(\"Brecha salarial\", 'green', attrs=['bold']))\n",
    "\n",
    "str_match = [s for s in resultados if \"brecha salarial\" in s]\n",
    "print(\"\\n\".join(str_match))\n",
    "\n",
    "print(colored(\"Machismo\", 'green', attrs=['bold']))\n",
    "\n",
    "str_match = [s for s in resultados if \"machismo\" in s]\n",
    "print(\"\\n\".join(str_match))\n",
    "\n",
    "print(colored(\"Violencia\", 'green', attrs=['bold']))\n",
    "\n",
    "str_match = [s for s in resultados if \"violencia\" in s]\n",
    "print(\"\\n\".join(str_match))\n",
    "\n",
    "print(colored(\"Maltrato\", 'green', attrs=['bold']))\n",
    "\n",
    "str_match = [s for s in resultados if \"maltrato\" in s]\n",
    "print(\"\\n\".join(str_match))\n",
    "\n",
    "print(colored(\"Homicidio\", 'green', attrs=['bold']))\n",
    "\n",
    "str_match = [s for s in resultados if \"homicidio\" in s]\n",
    "print(\"\\n\".join(str_match))\n",
    "\n",
    "print(colored(\"Género\", 'green', attrs=['bold']))\n",
    "\n",
    "str_match = [s for s in resultados if \"género\" in s]\n",
    "print(\"\\n\".join(str_match))\n",
    "\n",
    "print(colored(\"Asesinato\", 'green', attrs=['bold']))\n",
    "\n",
    "str_match = [s for s in resultados if \"asesinato\" in s]\n",
    "print(\"\\n\".join(str_match))\n",
    "\n",
    "print(colored(\"Sexo\", 'green', attrs=['bold']))\n",
    "\n",
    "str_match = [s for s in resultados if \"sexo\" in s]\n",
    "print(\"\\n\".join(str_match))\n"
   ]
  }
 ],
 "metadata": {
  "kernelspec": {
   "display_name": "Python 3 (ipykernel)",
   "language": "python",
   "name": "python3"
  },
  "language_info": {
   "codemirror_mode": {
    "name": "ipython",
    "version": 3
   },
   "file_extension": ".py",
   "mimetype": "text/x-python",
   "name": "python",
   "nbconvert_exporter": "python",
   "pygments_lexer": "ipython3",
   "version": "3.9.13"
  }
 },
 "nbformat": 4,
 "nbformat_minor": 5
}
